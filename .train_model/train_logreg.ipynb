{
 "cells": [
  {
   "cell_type": "markdown",
   "id": "a78af7f4",
   "metadata": {},
   "source": [
    "## Data"
   ]
  },
  {
   "cell_type": "code",
   "execution_count": 45,
   "id": "4d110345",
   "metadata": {},
   "outputs": [],
   "source": [
    "import pandas as pd"
   ]
  },
  {
   "cell_type": "code",
   "execution_count": 46,
   "id": "c36551b7",
   "metadata": {},
   "outputs": [],
   "source": [
    "train_df = pd.read_csv('data/train.csv')\n",
    "test_df = pd.read_csv('data/test.csv')"
   ]
  },
  {
   "cell_type": "code",
   "execution_count": 47,
   "id": "a86436c9",
   "metadata": {},
   "outputs": [
    {
     "data": {
      "text/plain": [
       "{'transaction_time': '2019-12-27 15:21',\n",
       " 'merch': 'fraud_Cormier LLC',\n",
       " 'cat_id': 'health_fitness',\n",
       " 'amount': 148.04,\n",
       " 'name_1': 'Daniel',\n",
       " 'name_2': 'Martinez',\n",
       " 'gender': 'M',\n",
       " 'street': '8510 Acevedo Burgs',\n",
       " 'one_city': 'Kent',\n",
       " 'us_state': 'OR',\n",
       " 'post_code': 97033,\n",
       " 'lat': 45.0838,\n",
       " 'lon': -120.6649,\n",
       " 'population_city': 60,\n",
       " 'jobs': 'Museum education officer',\n",
       " 'merchant_lat': 45.042827,\n",
       " 'merchant_lon': -120.709327,\n",
       " 'target': 0}"
      ]
     },
     "execution_count": 47,
     "metadata": {},
     "output_type": "execute_result"
    }
   ],
   "source": [
    "train_df.iloc[0].to_dict()"
   ]
  },
  {
   "cell_type": "code",
   "execution_count": 48,
   "id": "8d9f370c",
   "metadata": {},
   "outputs": [
    {
     "data": {
      "text/plain": [
       "transaction_time     object\n",
       "merch                object\n",
       "cat_id               object\n",
       "amount              float64\n",
       "name_1               object\n",
       "name_2               object\n",
       "gender               object\n",
       "street               object\n",
       "one_city             object\n",
       "us_state             object\n",
       "post_code             int64\n",
       "lat                 float64\n",
       "lon                 float64\n",
       "population_city       int64\n",
       "jobs                 object\n",
       "merchant_lat        float64\n",
       "merchant_lon        float64\n",
       "target                int64\n",
       "dtype: object"
      ]
     },
     "execution_count": 48,
     "metadata": {},
     "output_type": "execute_result"
    }
   ],
   "source": [
    "train_df.dtypes"
   ]
  },
  {
   "cell_type": "code",
   "execution_count": 49,
   "id": "88109d0a",
   "metadata": {},
   "outputs": [
    {
     "data": {
      "text/plain": [
       "target\n",
       "0    781927\n",
       "1      4504\n",
       "Name: count, dtype: int64"
      ]
     },
     "execution_count": 49,
     "metadata": {},
     "output_type": "execute_result"
    }
   ],
   "source": [
    "train_df.target.value_counts()"
   ]
  },
  {
   "cell_type": "markdown",
   "id": "dd70e28a",
   "metadata": {},
   "source": [
    "## Pre-processing + logreg"
   ]
  },
  {
   "cell_type": "code",
   "execution_count": 50,
   "id": "208a84a3",
   "metadata": {},
   "outputs": [
    {
     "data": {
      "text/plain": [
       "['../preprocessors/cat_encoder.joblib']"
      ]
     },
     "execution_count": 50,
     "metadata": {},
     "output_type": "execute_result"
    }
   ],
   "source": [
    "import pandas as pd\n",
    "import numpy as np\n",
    "import joblib\n",
    "from sklearn.preprocessing import OneHotEncoder, StandardScaler\n",
    "from sklearn.impute import SimpleImputer\n",
    "from sklearn.linear_model import LogisticRegression\n",
    "\n",
    "def add_features(df):\n",
    "    df = df.copy()\n",
    "    dt = pd.to_datetime(df['transaction_time'])\n",
    "    df['hour'] = dt.dt.hour\n",
    "    df['dow'] = dt.dt.dayofweek\n",
    "\n",
    "    def haversine(lat1, lon1, lat2, lon2):\n",
    "        R = 6371.0\n",
    "        p1 = np.radians(lat1)\n",
    "        p2 = np.radians(lat2)\n",
    "        dphi = np.radians(lat2 - lat1)\n",
    "        dlambda = np.radians(lon2 - lon1)\n",
    "        a = np.sin(dphi / 2) ** 2 + np.cos(p1) * np.cos(p2) * np.sin(dlambda / 2) ** 2\n",
    "        return 2 * R * np.arcsin(np.sqrt(a))\n",
    "\n",
    "    df['distance_km'] = haversine(df['lat'], df['lon'], df['merchant_lat'], df['merchant_lon'])\n",
    "    return df\n",
    "\n",
    "def make_Xy(df):\n",
    "    df = add_features(df)\n",
    "    y = df['target'].values if 'target' in df.columns else None\n",
    "    drop_cols = [\n",
    "        'transaction_time','name_1','name_2','street','one_city',\n",
    "        'jobs','merch','post_code','target'\n",
    "    ]\n",
    "    keep = [c for c in df.columns if c not in drop_cols]\n",
    "    X = df[keep]\n",
    "    return X, y\n",
    "\n",
    "X, y = make_Xy(train_df)\n",
    "\n",
    "num_features = [\n",
    "    'amount','lat','lon','merchant_lat','merchant_lon',\n",
    "    'population_city','hour','dow','distance_km'\n",
    "]\n",
    "cat_features = ['cat_id','us_state','gender']\n",
    "\n",
    "num_imputer = SimpleImputer(strategy='median')\n",
    "num_scaler = StandardScaler()\n",
    "cat_imputer = SimpleImputer(strategy='most_frequent')\n",
    "cat_encoder = OneHotEncoder(handle_unknown='ignore', sparse_output=False)\n",
    "\n",
    "X_num = num_scaler.fit_transform(num_imputer.fit_transform(X[num_features]))\n",
    "X_cat = cat_encoder.fit_transform(cat_imputer.fit_transform(X[cat_features]))\n",
    "X_final = np.hstack([X_num, X_cat])\n",
    "\n",
    "clf = LogisticRegression(max_iter=1000, class_weight='balanced')\n",
    "clf.fit(X_final, y)\n",
    "\n",
    "joblib.dump(clf, '../models/logreg_model.joblib')\n",
    "joblib.dump(num_imputer, '../preprocessors/num_imputer.joblib')\n",
    "joblib.dump(num_scaler, '../preprocessors/num_scaler.joblib')\n",
    "joblib.dump(cat_imputer, '../preprocessors/cat_imputer.joblib')\n",
    "joblib.dump(cat_encoder, '../preprocessors/cat_encoder.joblib')\n"
   ]
  },
  {
   "cell_type": "markdown",
   "id": "98334623",
   "metadata": {},
   "source": [
    "## Make submission"
   ]
  },
  {
   "cell_type": "code",
   "execution_count": 53,
   "id": "4e133038",
   "metadata": {},
   "outputs": [],
   "source": [
    "def make_X(df):\n",
    "    df = add_features(df)\n",
    "    drop_cols = [\n",
    "        'transaction_time','name_1','name_2','street','one_city',\n",
    "        'jobs','merch','post_code','target'\n",
    "    ]\n",
    "    keep = [c for c in df.columns if c not in drop_cols]\n",
    "    X = df[keep]\n",
    "    return X"
   ]
  },
  {
   "cell_type": "code",
   "execution_count": 54,
   "id": "aceb0db3",
   "metadata": {},
   "outputs": [],
   "source": [
    "test_df = pd.read_csv('data/test.csv')\n",
    "X = make_X(test_df)\n",
    "\n",
    "clf = joblib.load('../models/logreg_model.joblib')\n",
    "num_imputer = joblib.load('../preprocessors/num_imputer.joblib')\n",
    "num_scaler = joblib.load('../preprocessors/num_scaler.joblib')\n",
    "cat_imputer = joblib.load('../preprocessors/cat_imputer.joblib')\n",
    "cat_encoder = joblib.load('../preprocessors/cat_encoder.joblib')\n",
    "\n",
    "X_num = num_scaler.transform(num_imputer.transform(X[num_features]))\n",
    "X_cat = cat_encoder.transform(cat_imputer.transform(X[cat_features]))\n",
    "X_final = np.hstack([X_num, X_cat])\n",
    "\n",
    "labels = clf.predict(X_final).astype(int)\n",
    "\n",
    "submission = pd.DataFrame({\n",
    "    'index': test_df.index,\n",
    "    'prediction': labels\n",
    "})\n",
    "\n",
    "submission.to_csv('submissions/sample_submission.csv', index=False)"
   ]
  },
  {
   "cell_type": "markdown",
   "id": "151ac762",
   "metadata": {},
   "source": [
    "sumbission scored 0.067 on kaggle so i guess it is good enough"
   ]
  }
 ],
 "metadata": {
  "kernelspec": {
   "display_name": "base",
   "language": "python",
   "name": "python3"
  },
  "language_info": {
   "codemirror_mode": {
    "name": "ipython",
    "version": 3
   },
   "file_extension": ".py",
   "mimetype": "text/x-python",
   "name": "python",
   "nbconvert_exporter": "python",
   "pygments_lexer": "ipython3",
   "version": "3.12.2"
  }
 },
 "nbformat": 4,
 "nbformat_minor": 5
}
